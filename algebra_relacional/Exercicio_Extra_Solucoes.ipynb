{
 "cells": [
  {
   "cell_type": "markdown",
   "metadata": {},
   "source": [
    "# Aula5 - Exercícios Extra - Python e Pandas"
   ]
  },
  {
   "cell_type": "markdown",
   "metadata": {},
   "source": [
    "### Onde buscar informações sobre as funções do Pandas\n",
    "[https://pandas.pydata.org/docs/](https://pandas.pydata.org/docs/)"
   ]
  },
  {
   "cell_type": "code",
   "execution_count": null,
   "metadata": {},
   "outputs": [],
   "source": [
    "# Importe a biblioteca pandas e numpy\n",
    "import pandas as pd\n",
    "import numpy as np"
   ]
  },
  {
   "cell_type": "markdown",
   "metadata": {},
   "source": [
    "### 5.5 Escreva uma função para mudar o conteúdo de uma coluna de um dataframe de valores do tipo string ('yes' ou 'no') para uma coluna do tipo booleano parametrizando no nome da coluna a ser alterada.\n",
    "#### Exemplo: Considere o dataframe a seguir\n",
    "|    | name      |   score | qualify   |\n",
    "|:---|:----------|--------:|:----------|\n",
    "| a  | Jose |    12.5 | yes       |\n",
    "| b  | Maria      |     9   | no        |\n",
    "| c  | Joao |    16.5 | yes       |\n",
    "\n",
    "#### Resultado Esperado:\n",
    "|    | name      |   score | qualify   |\n",
    "|:---|:----------|--------:|:----------|\n",
    "| a  | Jose |    12.5 | True      |\n",
    "| b  | Maria      |     9   | False     |\n",
    "| c  | Joao |    16.5 | True      |\n",
    "\n",
    "\n",
    "#### Dica: use a função Series.map"
   ]
  },
  {
   "cell_type": "code",
   "execution_count": null,
   "metadata": {
    "nbgrader": {
     "grade": false,
     "grade_id": "cell-a97c7b11185a3b64",
     "locked": false,
     "schema_version": 3,
     "solution": true,
     "task": false
    }
   },
   "outputs": [],
   "source": [
    "def change_yes_no(df, col):\n",
    "    \"\"\"altere o data frame na coluna col substituindo 'yes' por True e 'no' por False\n",
    "    \"\"\"\n",
    "    ### BEGIN SOLUTION\n",
    "    df[col] = df[col].map({'yes': True, 'no': False})\n",
    "    return df\n",
    "    ### END SOLUTION\n"
   ]
  },
  {
   "cell_type": "code",
   "execution_count": null,
   "metadata": {},
   "outputs": [],
   "source": [
    "## Faça seus testes aqui\n",
    "exam_data  = {'name': ['Jose', 'Maria', 'Joao', 'Pedro', 'Emilia',\n",
    "                       'Marcos', 'Mateus', 'Laura', 'Carlos', 'Jonas'],\n",
    "        'score': [12.5, 9, 16.5, np.nan, 9, 20, 14.5, np.nan, 8, 19],\n",
    "        'qualify': ['yes', 'no', 'yes', 'no', 'no', 'yes', 'yes', 'no', 'no', 'yes']}\n",
    "labels = ['a', 'b', 'c', 'd', 'e', 'f', 'g', 'h', 'i', 'j']\n",
    "exam_data2 = {'name': ['Jose', 'Maria', 'Joao', 'Pedro', 'Emilia',\n",
    "                       'Marcos', 'Mateus', 'Laura', 'Carlos', 'Jonas'],\n",
    "        'score': [12.5, 9, 16.5, np.nan, 9, 20, 14.5, np.nan, 8, 19],\n",
    "        'qualify': [True, False, True, False, False, True, True, False, False, True]}\n",
    "df = pd.DataFrame(exam_data, index=labels) \n",
    "\n",
    "change_yes_no(df, 'qualify')\n",
    "# Resultado esperado:\n",
    "#      name  score  qualify\n",
    "# a    Jose   12.5     True\n",
    "# b   Maria    9.0    False\n",
    "# c    Joao   16.5     True\n",
    "# d   Pedro    NaN    False\n",
    "# e  Emilia    9.0    False\n",
    "# f  Marcos   20.0     True\n",
    "# g  Mateus   14.5     True\n",
    "# h   Laura    NaN    False\n",
    "# i  Carlos    8.0    False\n",
    "# j   Jonas   19.0     True\n"
   ]
  },
  {
   "cell_type": "code",
   "execution_count": null,
   "metadata": {},
   "outputs": [],
   "source": [
    "# Validação\n",
    "exam_data  = {'name': ['Jose', 'Maria', 'Joao', 'Pedro', 'Emilia',\n",
    "                       'Marcos', 'Mateus', 'Laura', 'Carlos', 'Jonas'],\n",
    "        'score': [12.5, 9, 16.5, np.nan, 9, 20, 14.5, np.nan, 8, 19],\n",
    "        'qualify': ['yes', 'no', 'yes', 'no', 'no', 'yes', 'yes', 'no', 'no', 'yes']}\n",
    "labels = ['a', 'b', 'c', 'd', 'e', 'f', 'g', 'h', 'i', 'j']\n",
    "exam_data2 = {'name': ['Jose', 'Maria', 'Joao', 'Pedro', 'Emilia',\n",
    "                       'Marcos', 'Mateus', 'Laura', 'Carlos', 'Jonas'],\n",
    "        'score': [12.5, 9, 16.5, np.nan, 9, 20, 14.5, np.nan, 8, 19],\n",
    "        'qualify': [True, False, True, False, False, True, True, False, False, True]}\n",
    "df = pd.DataFrame(exam_data, index=labels) \n",
    "df2 = pd.DataFrame(exam_data2, index=labels) \n",
    "\n",
    "entradas = [[df, 'qualify']]\n",
    "saidas = [True]\n",
    "validate(change_yes_no, entradas, lambda x: x.equals(df2), saidas, \"5.5\", True)"
   ]
  },
  {
   "cell_type": "markdown",
   "metadata": {},
   "source": [
    "### 5.6 Escreva uma função para ordenar um DataFrame por colunas (Ex.: [col1, col2,...,colK]), de forma descendente, e retornar as top N linhas do DataFrame ordenado \n",
    "#### Use o dataset Diamonds (https://www.kaggle.com/shivam2503/diamonds) \n",
    "#### Dica 1: Use a função sort_values do DataFrame. Esta função possui os parâmetros inplace e ascending.\n",
    "\n",
    "#### O código a seguir faz o download deste dataset na forma de um dataframe."
   ]
  },
  {
   "cell_type": "code",
   "execution_count": null,
   "metadata": {},
   "outputs": [],
   "source": [
    "diamonds = pd.read_csv('https://raw.githubusercontent.com/mwaskom/seaborn-data/master/diamonds.csv')\n",
    "diamonds"
   ]
  },
  {
   "cell_type": "code",
   "execution_count": null,
   "metadata": {
    "nbgrader": {
     "grade": false,
     "grade_id": "cell-24d3130a017a3702",
     "locked": false,
     "schema_version": 3,
     "solution": true,
     "task": false
    }
   },
   "outputs": [],
   "source": [
    "def topN_sorted(df, cols, n):\n",
    "    \"\"\"retorne as top n linhas ordenadas por cols\n",
    "    \"\"\"\n",
    "    ### BEGIN SOLUTION\n",
    "    return df.sort_values(cols, inplace=False, ascending=False)[:n]\n",
    "    ### END SOLUTION\n"
   ]
  },
  {
   "cell_type": "code",
   "execution_count": null,
   "metadata": {},
   "outputs": [],
   "source": [
    "## Faça seus testes aqui\n",
    "df = pd.DataFrame({'carat':[2.29, 2.0, 1.51],'cut':['Premium', 'Very Good', 'Ideal'],\n",
    "                   'color':['I', 'G', 'G'],'clarity':['VS2', 'SI1', 'IF'],\n",
    "                   'depth':[60.8, 63.5, 61.7],'table':[60.0, 56.0, 55.0],\n",
    "                   'price':[18823, 18818, 18806],'x':[8.5, 7.9, 7.37],\n",
    "                   'y':[8.47, 7.97, 7.41],'z':[5.16, 5.04, 4.56]},\n",
    "                 index=[27749, 27748, 27747])\n",
    "\n",
    "topN_sorted(diamonds,['price', 'clarity'], 3)\n",
    "\n",
    "# Resultado esperado:\n",
    "#        carat        cut color clarity  depth  table  price     x     y     z\n",
    "# 27749   2.29    Premium     I     VS2   60.8   60.0  18823  8.50  8.47  5.16\n",
    "# 27748   2.00  Very Good     G     SI1   63.5   56.0  18818  7.90  7.97  5.04\n",
    "# 27747   1.51      Ideal     G      IF   61.7   55.0  18806  7.37  7.41  4.56\n"
   ]
  },
  {
   "cell_type": "code",
   "execution_count": null,
   "metadata": {},
   "outputs": [],
   "source": [
    "# Validação\n",
    "diamonds = pd.read_csv('https://raw.githubusercontent.com/mwaskom/seaborn-data/master/diamonds.csv')\n",
    "\n",
    "df = pd.DataFrame({'carat':[2.29, 2.0, 1.51],'cut':['Premium', 'Very Good', 'Ideal'],\n",
    "                   'color':['I', 'G', 'G'],'clarity':['VS2', 'SI1', 'IF'],\n",
    "                   'depth':[60.8, 63.5, 61.7],'table':[60.0, 56.0, 55.0],\n",
    "                   'price':[18823, 18818, 18806],'x':[8.5, 7.9, 7.37],\n",
    "                   'y':[8.47, 7.97, 7.41],'z':[5.16, 5.04, 4.56]},\n",
    "                 index=[27749, 27748, 27747])\n",
    "\n",
    "entradas = [[diamonds,['price', 'clarity'], 3]]\n",
    "saidas = [True]\n",
    "validate(topN_sorted, entradas, lambda x: x.equals(df), saidas, \"5.6\", True)"
   ]
  },
  {
   "cell_type": "markdown",
   "metadata": {},
   "source": [
    "### 5.7 Considerando o dataset Diamonds, escreva uma função para retornar as informações dos diamantes que atendam a especificação x > N e y > N e Z > N\n",
    "#### Use o dataset Diamonds (https://www.kaggle.com/shivam2503/diamonds) \n",
    "#### Dica 1: Use o operador & (AND) para realizar a conjunção lógica (p ^ q). Use a sintaxe com colchete e parênteses df[(S1) & (S2) & (S3)]\n",
    "\n",
    "#### O código a seguir faz o download deste dataset\n"
   ]
  },
  {
   "cell_type": "code",
   "execution_count": null,
   "metadata": {},
   "outputs": [],
   "source": [
    "diamonds = pd.read_csv('https://raw.githubusercontent.com/mwaskom/seaborn-data/master/diamonds.csv')\n",
    "diamonds"
   ]
  },
  {
   "cell_type": "code",
   "execution_count": null,
   "metadata": {
    "nbgrader": {
     "grade": false,
     "grade_id": "cell-ee1becd7e3120e96",
     "locked": false,
     "schema_version": 3,
     "solution": true,
     "task": false
    }
   },
   "outputs": [],
   "source": [
    "def filter_xyz(df, n):\n",
    "    \"\"\"retorne as linhas que atendam a especificação x > n e y > n e Z > n\n",
    "    \"\"\"\n",
    "    ### BEGIN SOLUTION\n",
    "    return df[(df['x'] > n) & (df['y'] > n) & (df['z'] > n)]\n",
    "    ### END SOLUTION\n"
   ]
  },
  {
   "cell_type": "code",
   "execution_count": null,
   "metadata": {},
   "outputs": [],
   "source": [
    "## Faça seus testes aqui\n",
    "diamonds = pd.read_csv('https://raw.githubusercontent.com/mwaskom/seaborn-data/master/diamonds.csv')\n",
    "test_data = {'carat': {24067: 2.0}, 'cut': {24067: 'Premium'}, 'color': {24067: 'H'}, 'clarity': {24067: 'SI2'},\n",
    " 'depth': {24067: 58.9}, 'table': {24067: 57.0}, 'price': {24067: 12210}, 'x': {24067: 8.09}, 'y': {24067: 58.9},\n",
    " 'z': {24067: 8.06}}\n",
    "\n",
    "filter_xyz(diamonds, 7)\n",
    "# Resultado esperado:\n",
    "#        carat      cut color clarity  depth  table  price     x     y     z\n",
    "# 24067    2.0  Premium     H     SI2   58.9   57.0  12210  8.09  58.9  8.06\n",
    "\n"
   ]
  },
  {
   "cell_type": "code",
   "execution_count": null,
   "metadata": {},
   "outputs": [],
   "source": [
    "# Validação\n",
    "diamonds = pd.read_csv('https://raw.githubusercontent.com/mwaskom/seaborn-data/master/diamonds.csv')\n",
    "test_data = {'carat': {24067: 2.0}, 'cut': {24067: 'Premium'}, 'color': {24067: 'H'}, 'clarity': {24067: 'SI2'},\n",
    " 'depth': {24067: 58.9}, 'table': {24067: 57.0}, 'price': {24067: 12210}, 'x': {24067: 8.09}, 'y': {24067: 58.9},\n",
    " 'z': {24067: 8.06}}\n",
    "\n",
    "entradas = [[diamonds, 7]]\n",
    "saidas = [test_data]\n",
    "validate(filter_xyz, entradas, lambda x: x.to_dict(), saidas, \"5.7\", True)"
   ]
  },
  {
   "cell_type": "markdown",
   "metadata": {},
   "source": [
    "### 5.8 Escreva uma função para ordenar uma lista de dicionários usando uma função Lambda. A função criada deve receber como argumento a chave do dicionário que será usada na ordenação da lista.\n"
   ]
  },
  {
   "cell_type": "code",
   "execution_count": null,
   "metadata": {
    "nbgrader": {
     "grade": false,
     "grade_id": "cell-c705b9d11473b9f9",
     "locked": false,
     "schema_version": 3,
     "solution": true,
     "task": false
    }
   },
   "outputs": [],
   "source": [
    "# Dica: use a função sorted. Use o argumento key da função sorted.\n",
    "def sort_dict_list(l, chave):\n",
    "    \"\"\"retorne a lista ordenada\n",
    "    \"\"\"\n",
    "    ### BEGIN SOLUTION\n",
    "    return sorted(l, key = lambda x: x[chave])\n",
    "    ### END SOLUTION\n"
   ]
  },
  {
   "cell_type": "code",
   "execution_count": null,
   "metadata": {},
   "outputs": [],
   "source": [
    "## Faça seus testes aqui\n",
    "data = [{'nome': ['Pedro'], 'classe': ['V'], 'disciplina': ['portugues', 'matematica', 'ciencia']},\n",
    "        {'nome': ['Jose'], 'classe': ['V'], 'disciplina': ['portugues', 'matematica', 'ciencia']},\n",
    "       {'nome': ['Maria'], 'classe': ['V'], 'disciplina': ['portugues', 'matematica', 'ciencia']}]\n",
    "\n",
    "sort_dict_list(data, 'nome') \n",
    "# Resultado esperado:\n",
    "# [{'nome': ['Jose'],\n",
    "#   'classe': ['V'],\n",
    "#   'disciplina': ['portugues', 'matematica', 'ciencia']},\n",
    "#  {'nome': ['Maria'],\n",
    "#   'classe': ['V'],\n",
    "#   'disciplina': ['portugues', 'matematica', 'ciencia']},\n",
    "#  {'nome': ['Pedro'],\n",
    "#   'classe': ['V'],\n",
    "#   'disciplina': ['portugues', 'matematica', 'ciencia']}]\n"
   ]
  },
  {
   "cell_type": "code",
   "execution_count": null,
   "metadata": {
    "nbgrader": {
     "grade": true,
     "grade_id": "cell-9ffda88d58e9282a",
     "locked": true,
     "points": 1,
     "schema_version": 3,
     "solution": false,
     "task": false
    }
   },
   "outputs": [],
   "source": [
    "# Validação\n",
    "data = [{'nome': ['Pedro'], 'classe': ['V'], 'disciplina': ['portugues', 'matematica', 'ciencia']},\n",
    "        {'nome': ['Jose'], 'classe': ['V'], 'disciplina': ['portugues', 'matematica', 'ciencia']},\n",
    "       {'nome': ['Maria'], 'classe': ['V'], 'disciplina': ['portugues', 'matematica', 'ciencia']}]\n",
    "\n",
    "data_sorted = [{'nome': ['Jose'], 'classe': ['V'], 'disciplina': ['portugues', 'matematica', 'ciencia']},\n",
    "        {'nome': ['Maria'], 'classe': ['V'], 'disciplina': ['portugues', 'matematica', 'ciencia']},\n",
    "       {'nome': ['Pedro'], 'classe': ['V'], 'disciplina': ['portugues', 'matematica', 'ciencia']}]\n",
    "\n",
    "entradas = [[data, 'nome']]\n",
    "saidas = [data_sorted]\n",
    "validate(sort_dict_list, entradas, lambda x: x, saidas, \"5.8\", True)"
   ]
  },
  {
   "cell_type": "markdown",
   "metadata": {},
   "source": [
    "### 5.9 Escreva uma função para criar uma nova coluna chamada 'segundo' que tenha o segundo maior valor de cada linha de df.\n",
    "#### Dica 1: Use a função apply do Dataframe aplicando uma função lambda. E use a função sorted dentro da função lambda. Perceba que você precisa converter o argumento da função lambda para list antes de aplicar o método sorted.\n",
    "#### Dica 2: Aplique a função lambda no eixo 1."
   ]
  },
  {
   "cell_type": "code",
   "execution_count": null,
   "metadata": {
    "nbgrader": {
     "grade": false,
     "grade_id": "cell-553ee248eb14bc30",
     "locked": false,
     "schema_version": 3,
     "solution": true,
     "task": false
    }
   },
   "outputs": [],
   "source": [
    "def segundo_maior(df):\n",
    "    \"\"\"retorne o dataframe df com uma nova coluna 'segundo' que tenha o segundo maior valor de cada linha de df\n",
    "    \"\"\"\n",
    "    ### BEGIN SOLUTION\n",
    "    df[\"segundo\"] = df.apply(lambda x: sorted(list(x))[-2], axis = 1)\n",
    "    return df\n",
    "    ### END SOLUTION\n"
   ]
  },
  {
   "cell_type": "code",
   "execution_count": null,
   "metadata": {},
   "outputs": [],
   "source": [
    "## Faça seus testes aqui\n",
    "data = {'d1': [20, 36, 25,  4,  1, 20, 17, 47,  2, 40],\n",
    "        'd2': [33, 25, 48, 39, 49, 37, 45, 36, 37, 31],\n",
    "        'd3': [19, 47,  9, 27, 48, 26, 24, 21,  1,  2]}\n",
    "df = pd.DataFrame(data)\n",
    "segundo_maior(df)\n",
    "\n",
    "# Resultado esperado: \n",
    "# 0  20  33  19       20\n",
    "# 1  36  25  47       36\n",
    "# 2  25  48   9       25\n",
    "# 3   4  39  27       27\n",
    "# 4   1  49  48       48\n",
    "# 5  20  37  26       26\n",
    "# 6  17  45  24       24\n",
    "# 7  47  36  21       36\n",
    "# 8   2  37   1        2\n",
    "# 9  40  31   2       31\n",
    "\n"
   ]
  },
  {
   "cell_type": "code",
   "execution_count": null,
   "metadata": {
    "nbgrader": {
     "grade": true,
     "grade_id": "cell-0e2bt6cefe06bdc60",
     "locked": true,
     "points": 1,
     "schema_version": 3,
     "solution": false,
     "task": false
    }
   },
   "outputs": [],
   "source": [
    "# Validação\n",
    "data = {'d1': [20, 36, 25,  4,  1, 20, 17, 47,  2, 40],\n",
    "        'd2': [33, 25, 48, 39, 49, 37, 45, 36, 37, 31],\n",
    "        'd3': [19, 47,  9, 27, 48, 26, 24, 21,  1,  2]}\n",
    "df = pd.DataFrame(data)\n",
    "\n",
    "entradas = [[df]]\n",
    "saidas = [[20, 36, 25, 27, 48, 26, 24, 36, 2, 31]]\n",
    "validate(segundo_maior, entradas, lambda x: list(x['segundo']), saidas, \"5.9\", True)"
   ]
  }
 ],
 "metadata": {
  "celltoolbar": "Create Assignment",
  "kernelspec": {
   "display_name": "Python 3",
   "language": "python",
   "name": "python3"
  },
  "language_info": {
   "codemirror_mode": {
    "name": "ipython",
    "version": 3
   },
   "file_extension": ".py",
   "mimetype": "text/x-python",
   "name": "python",
   "nbconvert_exporter": "python",
   "pygments_lexer": "ipython3",
   "version": "3.8.3"
  },
  "name": "_merged",
  "varInspector": {
   "cols": {
    "lenName": 16,
    "lenType": 16,
    "lenVar": 40
   },
   "kernels_config": {
    "python": {
     "delete_cmd_postfix": "",
     "delete_cmd_prefix": "del ",
     "library": "var_list.py",
     "varRefreshCmd": "print(var_dic_list())"
    },
    "r": {
     "delete_cmd_postfix": ") ",
     "delete_cmd_prefix": "rm(",
     "library": "var_list.r",
     "varRefreshCmd": "cat(var_dic_list()) "
    }
   },
   "types_to_exclude": [
    "module",
    "function",
    "builtin_function_or_method",
    "instance",
    "_Feature"
   ],
   "window_display": false
  }
 },
 "nbformat": 4,
 "nbformat_minor": 4
}
