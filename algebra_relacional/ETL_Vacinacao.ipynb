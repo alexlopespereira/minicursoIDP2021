{
  "nbformat": 4,
  "nbformat_minor": 0,
  "metadata": {
    "colab": {
      "name": "ETL_Vacinacao.ipynb",
      "provenance": [],
      "collapsed_sections": [],
      "authorship_tag": "ABX9TyNgjxLDynmivzvBhvvXEmP1",
      "include_colab_link": true
    },
    "kernelspec": {
      "name": "python3",
      "display_name": "Python 3"
    },
    "language_info": {
      "name": "python"
    }
  },
  "cells": [
    {
      "cell_type": "markdown",
      "metadata": {
        "id": "view-in-github",
        "colab_type": "text"
      },
      "source": [
        "<a href=\"https://colab.research.google.com/github/alexlopespereira/minicursoIDP2021/blob/master/ETL_Vacinacao.ipynb\" target=\"_parent\"><img src=\"https://colab.research.google.com/assets/colab-badge.svg\" alt=\"Open In Colab\"/></a>"
      ]
    },
    {
      "cell_type": "markdown",
      "metadata": {
        "id": "NSLs83IDUKfq"
      },
      "source": [
        "# Primeiros passos com o BigQuery no Google Colab\n",
        "*   Baseado no notebook https://colab.research.google.com/notebooks/bigquery.ipynb\n",
        "\n",
        "*   Execute os passos abaixo, conforme explicado nos slides:\n",
        "1.   Use o [Cloud Resource Manager](https://console.cloud.google.com/cloud-resource-manager) para **criar um projeto na Google Cloud Platform (GCP)**, se você ainda não tem um.\n",
        "2.   [Habilite as APIs do BigQuery](https://console.cloud.google.com/flows/enableapi?apiid=bigquery) para o projeto.\n",
        "\n",
        "* Ou consulte o [Tutorial em vídeo](https://www.youtube.com/watch?v=JLXLCv5nUCE) "
      ]
    },
    {
      "cell_type": "code",
      "metadata": {
        "colab": {
          "base_uri": "https://localhost:8080/"
        },
        "id": "Z0nybKmRrJRn",
        "outputId": "166a4bc9-6cd5-4ea6-fd81-c5769628a34f"
      },
      "source": [
        "from google.colab import auth\n",
        "auth.authenticate_user()\n",
        "print('Authenticated')"
      ],
      "execution_count": 1,
      "outputs": [
        {
          "output_type": "stream",
          "name": "stdout",
          "text": [
            "Authenticated\n"
          ]
        }
      ]
    },
    {
      "cell_type": "code",
      "metadata": {
        "colab": {
          "base_uri": "https://localhost:8080/",
          "height": 214
        },
        "id": "i8BuNBoVUPys",
        "outputId": "10e0170f-a0dc-442c-eb50-2a38c74b14dd"
      },
      "source": [
        "import pandas as pd\n",
        "## Defina o id do seu projeto no bigquery!!!!!\n",
        "project_id = 'mscovid' # Defina o id do seu projeto no bigquery!!!!!\n",
        "## Defina o id do seu projeto no bigquery!!!!!\n",
        "\n",
        "df_vacina = pd.io.gbq.read_gbq('''\n",
        "  SELECT * FROM\n",
        "(\n",
        "  -- #1 from_item\n",
        "  SELECT mv.sigla_uf,  mv.nome_fabricante,  mv.vacina, me.id_municipio, REGEXP_REPLACE(mv.dose, '[^1-4A-Za-z]','')  as dose,\n",
        "  EXTRACT (MONTH FROM mv.data_aplicacao) AS mes,\n",
        "  EXTRACT(YEAR FROM mv.data_aplicacao) AS ano,\n",
        "  FROM basedosdados.br_ms_vacinacao_covid19.microdados_vacinacao mv\n",
        "  JOIN basedosdados.br_ms_vacinacao_covid19.microdados_estabelecimento me ON me.id_estabelecimento = mv.id_estabelecimento\n",
        "  GROUP BY\n",
        "    mv.sigla_uf, mv.nome_fabricante, mv.vacina, me.id_municipio, mv.dose, mes, ano\n",
        "  LIMIT 50000000\n",
        ")\n",
        "PIVOT\n",
        "(\n",
        "  -- #2 aggregate\n",
        "  COUNT(1) AS QTD\n",
        "  -- #3 pivot_column\n",
        "  FOR dose in ('1Dose', '2Dose', '3Dose', 'Dose', 'nica', '1DoseRevacinao', '2DoseRevacinao', 'DoseInicial', 'DoseAdicional', '1Reforo')\n",
        ")\n",
        "''', project_id=project_id)\n",
        "\n",
        "df_vacina.head()"
      ],
      "execution_count": 80,
      "outputs": [
        {
          "output_type": "execute_result",
          "data": {
            "text/html": [
              "<div>\n",
              "<style scoped>\n",
              "    .dataframe tbody tr th:only-of-type {\n",
              "        vertical-align: middle;\n",
              "    }\n",
              "\n",
              "    .dataframe tbody tr th {\n",
              "        vertical-align: top;\n",
              "    }\n",
              "\n",
              "    .dataframe thead th {\n",
              "        text-align: right;\n",
              "    }\n",
              "</style>\n",
              "<table border=\"1\" class=\"dataframe\">\n",
              "  <thead>\n",
              "    <tr style=\"text-align: right;\">\n",
              "      <th></th>\n",
              "      <th>sigla_uf</th>\n",
              "      <th>nome_fabricante</th>\n",
              "      <th>vacina</th>\n",
              "      <th>id_municipio</th>\n",
              "      <th>mes</th>\n",
              "      <th>ano</th>\n",
              "      <th>QTD_1Dose</th>\n",
              "      <th>QTD_2Dose</th>\n",
              "      <th>QTD_3Dose</th>\n",
              "      <th>QTD_Dose</th>\n",
              "      <th>QTD_nica</th>\n",
              "      <th>QTD_1DoseRevacinao</th>\n",
              "      <th>QTD_2DoseRevacinao</th>\n",
              "      <th>QTD_DoseInicial</th>\n",
              "      <th>QTD_DoseAdicional</th>\n",
              "      <th>QTD_1Reforo</th>\n",
              "    </tr>\n",
              "  </thead>\n",
              "  <tbody>\n",
              "    <tr>\n",
              "      <th>0</th>\n",
              "      <td>MA</td>\n",
              "      <td>PFIZER</td>\n",
              "      <td>87</td>\n",
              "      <td>2111300</td>\n",
              "      <td>8</td>\n",
              "      <td>2021</td>\n",
              "      <td>1</td>\n",
              "      <td>1</td>\n",
              "      <td>0</td>\n",
              "      <td>0</td>\n",
              "      <td>0</td>\n",
              "      <td>0</td>\n",
              "      <td>0</td>\n",
              "      <td>0</td>\n",
              "      <td>1</td>\n",
              "      <td>0</td>\n",
              "    </tr>\n",
              "    <tr>\n",
              "      <th>1</th>\n",
              "      <td>MA</td>\n",
              "      <td>ASTRAZENECA/FIOCRUZ</td>\n",
              "      <td>85</td>\n",
              "      <td>2112902</td>\n",
              "      <td>7</td>\n",
              "      <td>2021</td>\n",
              "      <td>1</td>\n",
              "      <td>1</td>\n",
              "      <td>0</td>\n",
              "      <td>0</td>\n",
              "      <td>0</td>\n",
              "      <td>0</td>\n",
              "      <td>0</td>\n",
              "      <td>0</td>\n",
              "      <td>0</td>\n",
              "      <td>0</td>\n",
              "    </tr>\n",
              "    <tr>\n",
              "      <th>2</th>\n",
              "      <td>MA</td>\n",
              "      <td>SINOVAC/BUTANTAN</td>\n",
              "      <td>86</td>\n",
              "      <td>2106607</td>\n",
              "      <td>9</td>\n",
              "      <td>2021</td>\n",
              "      <td>1</td>\n",
              "      <td>1</td>\n",
              "      <td>0</td>\n",
              "      <td>0</td>\n",
              "      <td>0</td>\n",
              "      <td>0</td>\n",
              "      <td>0</td>\n",
              "      <td>0</td>\n",
              "      <td>0</td>\n",
              "      <td>0</td>\n",
              "    </tr>\n",
              "    <tr>\n",
              "      <th>3</th>\n",
              "      <td>MA</td>\n",
              "      <td>ASTRAZENECA/FIOCRUZ</td>\n",
              "      <td>85</td>\n",
              "      <td>2112506</td>\n",
              "      <td>9</td>\n",
              "      <td>2021</td>\n",
              "      <td>1</td>\n",
              "      <td>1</td>\n",
              "      <td>0</td>\n",
              "      <td>0</td>\n",
              "      <td>0</td>\n",
              "      <td>0</td>\n",
              "      <td>0</td>\n",
              "      <td>0</td>\n",
              "      <td>0</td>\n",
              "      <td>0</td>\n",
              "    </tr>\n",
              "    <tr>\n",
              "      <th>4</th>\n",
              "      <td>MA</td>\n",
              "      <td>SINOVAC/BUTANTAN</td>\n",
              "      <td>86</td>\n",
              "      <td>2106607</td>\n",
              "      <td>7</td>\n",
              "      <td>2021</td>\n",
              "      <td>1</td>\n",
              "      <td>1</td>\n",
              "      <td>0</td>\n",
              "      <td>0</td>\n",
              "      <td>0</td>\n",
              "      <td>0</td>\n",
              "      <td>0</td>\n",
              "      <td>0</td>\n",
              "      <td>0</td>\n",
              "      <td>0</td>\n",
              "    </tr>\n",
              "  </tbody>\n",
              "</table>\n",
              "</div>"
            ],
            "text/plain": [
              "  sigla_uf      nome_fabricante  ... QTD_DoseAdicional QTD_1Reforo\n",
              "0       MA               PFIZER  ...                 1           0\n",
              "1       MA  ASTRAZENECA/FIOCRUZ  ...                 0           0\n",
              "2       MA     SINOVAC/BUTANTAN  ...                 0           0\n",
              "3       MA  ASTRAZENECA/FIOCRUZ  ...                 0           0\n",
              "4       MA     SINOVAC/BUTANTAN  ...                 0           0\n",
              "\n",
              "[5 rows x 16 columns]"
            ]
          },
          "metadata": {},
          "execution_count": 80
        }
      ]
    },
    {
      "cell_type": "markdown",
      "metadata": {
        "id": "8YTEQBpohSw7"
      },
      "source": [
        "##Próximo passo: agregar a posição geográfica do centroid dos municípios e da sua população"
      ]
    },
    {
      "cell_type": "markdown",
      "metadata": {
        "id": "8s4jTg8whNNe"
      },
      "source": [
        "## Pré-processamento dos centroids dos municipios"
      ]
    },
    {
      "cell_type": "code",
      "metadata": {
        "colab": {
          "base_uri": "https://localhost:8080/"
        },
        "id": "VyoV79hsf1nP",
        "outputId": "80f19d68-ca21-4758-b3df-c99838d59898"
      },
      "source": [
        "!pip install dbf"
      ],
      "execution_count": 4,
      "outputs": [
        {
          "output_type": "stream",
          "name": "stdout",
          "text": [
            "Collecting dbf\n",
            "  Downloading dbf-0.99.1-py3-none-any.whl (107 kB)\n",
            "\u001b[K     |████████████████████████████████| 107 kB 4.7 MB/s \n",
            "\u001b[?25hCollecting aenum\n",
            "  Downloading aenum-3.1.0-py3-none-any.whl (123 kB)\n",
            "\u001b[K     |████████████████████████████████| 123 kB 29.4 MB/s \n",
            "\u001b[?25hInstalling collected packages: aenum, dbf\n",
            "Successfully installed aenum-3.1.0 dbf-0.99.1\n"
          ]
        }
      ]
    },
    {
      "cell_type": "code",
      "metadata": {
        "colab": {
          "base_uri": "https://localhost:8080/"
        },
        "id": "Pirb1jvpgD_X",
        "outputId": "b875d389-411c-47d0-97cd-f9a08cd11773"
      },
      "source": [
        "#Fonte oficial https://www.ibge.gov.br/geociencias/organizacao-do-territorio/estrutura-territorial/27385-localidades.html?=&t=downloads\n",
        "\n",
        "!wget https://github.com/renatocol/Latitude_Longitude_Brasil/raw/master/BR_Localidades_2010.dbf"
      ],
      "execution_count": 6,
      "outputs": [
        {
          "output_type": "stream",
          "name": "stdout",
          "text": [
            "--2021-10-28 20:03:58--  https://github.com/renatocol/Latitude_Longitude_Brasil/raw/master/BR_Localidades_2010.dbf\n",
            "Resolving github.com (github.com)... 52.69.186.44\n",
            "Connecting to github.com (github.com)|52.69.186.44|:443... connected.\n",
            "HTTP request sent, awaiting response... 302 Found\n",
            "Location: https://raw.githubusercontent.com/renatocol/Latitude_Longitude_Brasil/master/BR_Localidades_2010.dbf [following]\n",
            "--2021-10-28 20:03:58--  https://raw.githubusercontent.com/renatocol/Latitude_Longitude_Brasil/master/BR_Localidades_2010.dbf\n",
            "Resolving raw.githubusercontent.com (raw.githubusercontent.com)... 185.199.110.133, 185.199.109.133, 185.199.111.133, ...\n",
            "Connecting to raw.githubusercontent.com (raw.githubusercontent.com)|185.199.110.133|:443... connected.\n",
            "HTTP request sent, awaiting response... 200 OK\n",
            "Length: 17794056 (17M) [application/octet-stream]\n",
            "Saving to: ‘BR_Localidades_2010.dbf’\n",
            "\n",
            "BR_Localidades_2010 100%[===================>]  16.97M   110MB/s    in 0.2s    \n",
            "\n",
            "2021-10-28 20:04:00 (110 MB/s) - ‘BR_Localidades_2010.dbf’ saved [17794056/17794056]\n",
            "\n"
          ]
        }
      ]
    },
    {
      "cell_type": "code",
      "metadata": {
        "colab": {
          "base_uri": "https://localhost:8080/"
        },
        "id": "ktT6o9e3d9Ia",
        "outputId": "33a88eb0-ba79-46e8-93f4-8de047063150"
      },
      "source": [
        "import dbf\n",
        "import pandas as pd\n",
        "\n",
        "table = dbf.Table(filename='./BR_Localidades_2010.dbf')\n",
        "table.open(dbf.READ_ONLY)\n",
        "df = pd.DataFrame(table)\n",
        "table.close()\n",
        "\n",
        "print(df)"
      ],
      "execution_count": 7,
      "outputs": [
        {
          "output_type": "stream",
          "name": "stdout",
          "text": [
            "          0                     1           2   ...         19          20   21\n",
            "0          1  110001505000001       URBANO      ... -11.935540  337.735719  0.0\n",
            "1          2  110001515000001       URBANO      ... -12.437239  215.244429  0.0\n",
            "2          3  110001520000001       URBANO      ... -12.601415  181.044807  0.0\n",
            "3          4  110001525000001       URBANO      ... -11.919792  191.576571  0.0\n",
            "4          5  110001530000001       URBANO      ... -13.079806  157.285277  0.0\n",
            "...      ...                   ...         ...  ...        ...         ...  ...\n",
            "21881  21882  530010805180237       URBANO      ... -15.939671  911.712363  0.0\n",
            "21882  21883  530010805180238       URBANO      ... -15.936009  926.632968  0.0\n",
            "21883  21884  530010805180314       URBANO      ... -15.939968  902.635257  0.0\n",
            "21884  21885  530010805200120       URBANO      ... -15.939726  921.346973  0.0\n",
            "21885  21886  530010805200123       URBANO      ... -15.947606  953.389949  0.0\n",
            "\n",
            "[21886 rows x 22 columns]\n"
          ]
        }
      ]
    },
    {
      "cell_type": "code",
      "metadata": {
        "colab": {
          "base_uri": "https://localhost:8080/",
          "height": 307
        },
        "id": "HzYZaPcYfzjt",
        "outputId": "afbf52ea-3514-4152-dbb9-ebcd8f3b953e"
      },
      "source": [
        "df.head()"
      ],
      "execution_count": 14,
      "outputs": [
        {
          "output_type": "execute_result",
          "data": {
            "text/html": [
              "<div>\n",
              "<style scoped>\n",
              "    .dataframe tbody tr th:only-of-type {\n",
              "        vertical-align: middle;\n",
              "    }\n",
              "\n",
              "    .dataframe tbody tr th {\n",
              "        vertical-align: top;\n",
              "    }\n",
              "\n",
              "    .dataframe thead th {\n",
              "        text-align: right;\n",
              "    }\n",
              "</style>\n",
              "<table border=\"1\" class=\"dataframe\">\n",
              "  <thead>\n",
              "    <tr style=\"text-align: right;\">\n",
              "      <th></th>\n",
              "      <th>0</th>\n",
              "      <th>1</th>\n",
              "      <th>2</th>\n",
              "      <th>3</th>\n",
              "      <th>4</th>\n",
              "      <th>5</th>\n",
              "      <th>6</th>\n",
              "      <th>7</th>\n",
              "      <th>8</th>\n",
              "      <th>9</th>\n",
              "      <th>10</th>\n",
              "      <th>11</th>\n",
              "      <th>12</th>\n",
              "      <th>13</th>\n",
              "      <th>14</th>\n",
              "      <th>15</th>\n",
              "      <th>16</th>\n",
              "      <th>17</th>\n",
              "      <th>18</th>\n",
              "      <th>19</th>\n",
              "      <th>20</th>\n",
              "      <th>21</th>\n",
              "    </tr>\n",
              "  </thead>\n",
              "  <tbody>\n",
              "    <tr>\n",
              "      <th>0</th>\n",
              "      <td>1</td>\n",
              "      <td>110001505000001</td>\n",
              "      <td>URBANO</td>\n",
              "      <td>110001505006</td>\n",
              "      <td>Redondo                                       ...</td>\n",
              "      <td>11000150500</td>\n",
              "      <td>...</td>\n",
              "      <td>110001505</td>\n",
              "      <td>ALTA FLORESTA D'OESTE                         ...</td>\n",
              "      <td>1100015</td>\n",
              "      <td>ALTA FLORESTA D'OESTE                         ...</td>\n",
              "      <td>CACOAL                                        ...</td>\n",
              "      <td>LESTE RONDONIENSE                             ...</td>\n",
              "      <td>RONDÔNIA                                      ...</td>\n",
              "      <td>1</td>\n",
              "      <td>05</td>\n",
              "      <td>CIDADE                                        ...</td>\n",
              "      <td>ALTA FLORESTA D'OESTE                         ...</td>\n",
              "      <td>-61.999824</td>\n",
              "      <td>-11.935540</td>\n",
              "      <td>337.735719</td>\n",
              "      <td>0.0</td>\n",
              "    </tr>\n",
              "    <tr>\n",
              "      <th>1</th>\n",
              "      <td>2</td>\n",
              "      <td>110001515000001</td>\n",
              "      <td>URBANO</td>\n",
              "      <td></td>\n",
              "      <td>...</td>\n",
              "      <td>11000151500</td>\n",
              "      <td>...</td>\n",
              "      <td>110001515</td>\n",
              "      <td>FILADÉLFIA D'OESTE                            ...</td>\n",
              "      <td>1100015</td>\n",
              "      <td>ALTA FLORESTA D'OESTE                         ...</td>\n",
              "      <td>CACOAL                                        ...</td>\n",
              "      <td>LESTE RONDONIENSE                             ...</td>\n",
              "      <td>RONDÔNIA                                      ...</td>\n",
              "      <td>2</td>\n",
              "      <td>15</td>\n",
              "      <td>VILA                                          ...</td>\n",
              "      <td>FILADÉLFIA D'OESTE                            ...</td>\n",
              "      <td>-62.043898</td>\n",
              "      <td>-12.437239</td>\n",
              "      <td>215.244429</td>\n",
              "      <td>0.0</td>\n",
              "    </tr>\n",
              "    <tr>\n",
              "      <th>2</th>\n",
              "      <td>3</td>\n",
              "      <td>110001520000001</td>\n",
              "      <td>URBANO</td>\n",
              "      <td></td>\n",
              "      <td>...</td>\n",
              "      <td>11000152000</td>\n",
              "      <td>...</td>\n",
              "      <td>110001520</td>\n",
              "      <td>IZIDOLÂNDIA                                   ...</td>\n",
              "      <td>1100015</td>\n",
              "      <td>ALTA FLORESTA D'OESTE                         ...</td>\n",
              "      <td>CACOAL                                        ...</td>\n",
              "      <td>LESTE RONDONIENSE                             ...</td>\n",
              "      <td>RONDÔNIA                                      ...</td>\n",
              "      <td>2</td>\n",
              "      <td>20</td>\n",
              "      <td>VILA                                          ...</td>\n",
              "      <td>IZIDOLÂNDIA                                   ...</td>\n",
              "      <td>-62.175549</td>\n",
              "      <td>-12.601415</td>\n",
              "      <td>181.044807</td>\n",
              "      <td>0.0</td>\n",
              "    </tr>\n",
              "    <tr>\n",
              "      <th>3</th>\n",
              "      <td>4</td>\n",
              "      <td>110001525000001</td>\n",
              "      <td>URBANO</td>\n",
              "      <td></td>\n",
              "      <td>...</td>\n",
              "      <td>11000152500</td>\n",
              "      <td>...</td>\n",
              "      <td>110001525</td>\n",
              "      <td>NOVA GEASE D'OESTE                            ...</td>\n",
              "      <td>1100015</td>\n",
              "      <td>ALTA FLORESTA D'OESTE                         ...</td>\n",
              "      <td>CACOAL                                        ...</td>\n",
              "      <td>LESTE RONDONIENSE                             ...</td>\n",
              "      <td>RONDÔNIA                                      ...</td>\n",
              "      <td>2</td>\n",
              "      <td>25</td>\n",
              "      <td>VILA                                          ...</td>\n",
              "      <td>NOVA GEASE D'OESTE                            ...</td>\n",
              "      <td>-62.318650</td>\n",
              "      <td>-11.919792</td>\n",
              "      <td>191.576571</td>\n",
              "      <td>0.0</td>\n",
              "    </tr>\n",
              "    <tr>\n",
              "      <th>4</th>\n",
              "      <td>5</td>\n",
              "      <td>110001530000001</td>\n",
              "      <td>URBANO</td>\n",
              "      <td></td>\n",
              "      <td>...</td>\n",
              "      <td>11000153000</td>\n",
              "      <td>...</td>\n",
              "      <td>110001530</td>\n",
              "      <td>ROLIM DE MOURA DO GUAPORÉ                     ...</td>\n",
              "      <td>1100015</td>\n",
              "      <td>ALTA FLORESTA D'OESTE                         ...</td>\n",
              "      <td>CACOAL                                        ...</td>\n",
              "      <td>LESTE RONDONIENSE                             ...</td>\n",
              "      <td>RONDÔNIA                                      ...</td>\n",
              "      <td>2</td>\n",
              "      <td>30</td>\n",
              "      <td>VILA                                          ...</td>\n",
              "      <td>ROLIM DE MOURA DO GUAPORÉ                     ...</td>\n",
              "      <td>-62.276812</td>\n",
              "      <td>-13.079806</td>\n",
              "      <td>157.285277</td>\n",
              "      <td>0.0</td>\n",
              "    </tr>\n",
              "  </tbody>\n",
              "</table>\n",
              "</div>"
            ],
            "text/plain": [
              "   0                     1           2   ...         19          20   21\n",
              "0   1  110001505000001       URBANO      ... -11.935540  337.735719  0.0\n",
              "1   2  110001515000001       URBANO      ... -12.437239  215.244429  0.0\n",
              "2   3  110001520000001       URBANO      ... -12.601415  181.044807  0.0\n",
              "3   4  110001525000001       URBANO      ... -11.919792  191.576571  0.0\n",
              "4   5  110001530000001       URBANO      ... -13.079806  157.285277  0.0\n",
              "\n",
              "[5 rows x 22 columns]"
            ]
          },
          "metadata": {},
          "execution_count": 14
        }
      ]
    },
    {
      "cell_type": "code",
      "metadata": {
        "colab": {
          "base_uri": "https://localhost:8080/",
          "height": 214
        },
        "id": "B10zY5Teq3wH",
        "outputId": "d69b3d1e-2fc1-475f-e68c-e87b4703a796"
      },
      "source": [
        "# Algebra relacional: Projeção. Ou seja, selecionar colunas\n",
        "# Equivalente SQL: select col2, col9, col18, col19 from df\n",
        "df_geo = df[[2,9,18,19]].rename(columns={2:\"tipo_localidade\",9:\"cod_ibge\",18:\"long\",19:\"lat\"})\n",
        "df_geo['cod_ibge'] = df_geo['cod_ibge'].str.strip()\n",
        "df_geo['tipo_localidade'] = df_geo['tipo_localidade'].str.strip()\n",
        "# Algebra relacional: Selecionar/Filtrar/Restringir. Ou seja, filtrar linhas da tabela\n",
        "# Equivalente SQL: select * from df where tipo_localidade='URBANO'\n",
        "df_geo = df_geo[df_geo['tipo_localidade']=='URBANO']\n",
        "# Equivalente SQL: select * from df where cod_ibge!=''\n",
        "df_geo = df_geo[df_geo['cod_ibge']!='']\n",
        "\n",
        "# Algebra relacional: Agregação. Ou seja, agrupar registros e extrair alguma métrica de cada conjunto da agregação.\n",
        "df_geo_agg = df_geo.groupby('cod_ibge').first().reset_index()\n",
        "df_geo_agg.head()"
      ],
      "execution_count": 55,
      "outputs": [
        {
          "output_type": "execute_result",
          "data": {
            "text/html": [
              "<div>\n",
              "<style scoped>\n",
              "    .dataframe tbody tr th:only-of-type {\n",
              "        vertical-align: middle;\n",
              "    }\n",
              "\n",
              "    .dataframe tbody tr th {\n",
              "        vertical-align: top;\n",
              "    }\n",
              "\n",
              "    .dataframe thead th {\n",
              "        text-align: right;\n",
              "    }\n",
              "</style>\n",
              "<table border=\"1\" class=\"dataframe\">\n",
              "  <thead>\n",
              "    <tr style=\"text-align: right;\">\n",
              "      <th></th>\n",
              "      <th>cod_ibge</th>\n",
              "      <th>tipo_localidade</th>\n",
              "      <th>long</th>\n",
              "      <th>lat</th>\n",
              "    </tr>\n",
              "  </thead>\n",
              "  <tbody>\n",
              "    <tr>\n",
              "      <th>0</th>\n",
              "      <td>1100015</td>\n",
              "      <td>URBANO</td>\n",
              "      <td>-61.999824</td>\n",
              "      <td>-11.935540</td>\n",
              "    </tr>\n",
              "    <tr>\n",
              "      <th>1</th>\n",
              "      <td>1100023</td>\n",
              "      <td>URBANO</td>\n",
              "      <td>-63.033269</td>\n",
              "      <td>-9.908463</td>\n",
              "    </tr>\n",
              "    <tr>\n",
              "      <th>2</th>\n",
              "      <td>1100031</td>\n",
              "      <td>URBANO</td>\n",
              "      <td>-60.544314</td>\n",
              "      <td>-13.499763</td>\n",
              "    </tr>\n",
              "    <tr>\n",
              "      <th>3</th>\n",
              "      <td>1100049</td>\n",
              "      <td>URBANO</td>\n",
              "      <td>-61.442944</td>\n",
              "      <td>-11.433865</td>\n",
              "    </tr>\n",
              "    <tr>\n",
              "      <th>4</th>\n",
              "      <td>1100056</td>\n",
              "      <td>URBANO</td>\n",
              "      <td>-60.818426</td>\n",
              "      <td>-13.195033</td>\n",
              "    </tr>\n",
              "  </tbody>\n",
              "</table>\n",
              "</div>"
            ],
            "text/plain": [
              "  cod_ibge tipo_localidade       long        lat\n",
              "0  1100015          URBANO -61.999824 -11.935540\n",
              "1  1100023          URBANO -63.033269  -9.908463\n",
              "2  1100031          URBANO -60.544314 -13.499763\n",
              "3  1100049          URBANO -61.442944 -11.433865\n",
              "4  1100056          URBANO -60.818426 -13.195033"
            ]
          },
          "metadata": {},
          "execution_count": 55
        }
      ]
    },
    {
      "cell_type": "code",
      "metadata": {
        "colab": {
          "base_uri": "https://localhost:8080/",
          "height": 214
        },
        "id": "r8miF1NlhC8E",
        "outputId": "945caead-f951-4714-83f7-50652402c32b"
      },
      "source": [
        "df_geo_agg['lat_long'] = df_mun_agg[['lat','long']].apply(lambda x: f\"{str(x['lat']).replace(',','.')},{str(x['long']).replace(',','.')}\", axis=1)\n",
        "df_geo_agg.head()\n",
        "# df_recorte_mun.head()\n",
        "# df.loc[0,2]"
      ],
      "execution_count": 56,
      "outputs": [
        {
          "output_type": "execute_result",
          "data": {
            "text/html": [
              "<div>\n",
              "<style scoped>\n",
              "    .dataframe tbody tr th:only-of-type {\n",
              "        vertical-align: middle;\n",
              "    }\n",
              "\n",
              "    .dataframe tbody tr th {\n",
              "        vertical-align: top;\n",
              "    }\n",
              "\n",
              "    .dataframe thead th {\n",
              "        text-align: right;\n",
              "    }\n",
              "</style>\n",
              "<table border=\"1\" class=\"dataframe\">\n",
              "  <thead>\n",
              "    <tr style=\"text-align: right;\">\n",
              "      <th></th>\n",
              "      <th>cod_ibge</th>\n",
              "      <th>tipo_localidade</th>\n",
              "      <th>long</th>\n",
              "      <th>lat</th>\n",
              "      <th>lat_long</th>\n",
              "    </tr>\n",
              "  </thead>\n",
              "  <tbody>\n",
              "    <tr>\n",
              "      <th>0</th>\n",
              "      <td>1100015</td>\n",
              "      <td>URBANO</td>\n",
              "      <td>-61.999824</td>\n",
              "      <td>-11.935540</td>\n",
              "      <td>-11.9355403048,-61.9998238963</td>\n",
              "    </tr>\n",
              "    <tr>\n",
              "      <th>1</th>\n",
              "      <td>1100023</td>\n",
              "      <td>URBANO</td>\n",
              "      <td>-63.033269</td>\n",
              "      <td>-9.908463</td>\n",
              "      <td>-9.90846286657,-63.033269278</td>\n",
              "    </tr>\n",
              "    <tr>\n",
              "      <th>2</th>\n",
              "      <td>1100031</td>\n",
              "      <td>URBANO</td>\n",
              "      <td>-60.544314</td>\n",
              "      <td>-13.499763</td>\n",
              "      <td>-13.4997634597,-60.5443135812</td>\n",
              "    </tr>\n",
              "    <tr>\n",
              "      <th>3</th>\n",
              "      <td>1100049</td>\n",
              "      <td>URBANO</td>\n",
              "      <td>-61.442944</td>\n",
              "      <td>-11.433865</td>\n",
              "      <td>-11.4338650287,-61.4429442118</td>\n",
              "    </tr>\n",
              "    <tr>\n",
              "      <th>4</th>\n",
              "      <td>1100056</td>\n",
              "      <td>URBANO</td>\n",
              "      <td>-60.818426</td>\n",
              "      <td>-13.195033</td>\n",
              "      <td>-13.195033032,-60.8184261647</td>\n",
              "    </tr>\n",
              "  </tbody>\n",
              "</table>\n",
              "</div>"
            ],
            "text/plain": [
              "  cod_ibge tipo_localidade       long        lat                       lat_long\n",
              "0  1100015          URBANO -61.999824 -11.935540  -11.9355403048,-61.9998238963\n",
              "1  1100023          URBANO -63.033269  -9.908463   -9.90846286657,-63.033269278\n",
              "2  1100031          URBANO -60.544314 -13.499763  -13.4997634597,-60.5443135812\n",
              "3  1100049          URBANO -61.442944 -11.433865  -11.4338650287,-61.4429442118\n",
              "4  1100056          URBANO -60.818426 -13.195033   -13.195033032,-60.8184261647"
            ]
          },
          "metadata": {},
          "execution_count": 56
        }
      ]
    },
    {
      "cell_type": "markdown",
      "metadata": {
        "id": "nYvsKDhykTRA"
      },
      "source": [
        "## Pré-processamento da população dos municípios"
      ]
    },
    {
      "cell_type": "code",
      "metadata": {
        "colab": {
          "base_uri": "https://localhost:8080/",
          "height": 214
        },
        "id": "nr473Gngi9k0",
        "outputId": "926180fb-e06e-4060-c81f-64498b062f8e"
      },
      "source": [
        "dfpop = pd.read_excel(\"https://github.com/alexlopespereira/minicursoIDP2021/raw/master/data/estimativa_dou_2021.xls\", skiprows=1, sheet_name=\"Municípios\", dtype={\"COD. UF\": \"str\", \"COD. MUNIC\": \"str\"})\n",
        "dfpop.head()"
      ],
      "execution_count": 20,
      "outputs": [
        {
          "output_type": "execute_result",
          "data": {
            "text/html": [
              "<div>\n",
              "<style scoped>\n",
              "    .dataframe tbody tr th:only-of-type {\n",
              "        vertical-align: middle;\n",
              "    }\n",
              "\n",
              "    .dataframe tbody tr th {\n",
              "        vertical-align: top;\n",
              "    }\n",
              "\n",
              "    .dataframe thead th {\n",
              "        text-align: right;\n",
              "    }\n",
              "</style>\n",
              "<table border=\"1\" class=\"dataframe\">\n",
              "  <thead>\n",
              "    <tr style=\"text-align: right;\">\n",
              "      <th></th>\n",
              "      <th>UF</th>\n",
              "      <th>COD. UF</th>\n",
              "      <th>COD. MUNIC</th>\n",
              "      <th>NOME DO MUNICÍPIO</th>\n",
              "      <th>POPULAÇÃO ESTIMADA</th>\n",
              "    </tr>\n",
              "  </thead>\n",
              "  <tbody>\n",
              "    <tr>\n",
              "      <th>0</th>\n",
              "      <td>RO</td>\n",
              "      <td>11</td>\n",
              "      <td>00015</td>\n",
              "      <td>Alta Floresta D'Oeste</td>\n",
              "      <td>22516</td>\n",
              "    </tr>\n",
              "    <tr>\n",
              "      <th>1</th>\n",
              "      <td>RO</td>\n",
              "      <td>11</td>\n",
              "      <td>00023</td>\n",
              "      <td>Ariquemes</td>\n",
              "      <td>111148</td>\n",
              "    </tr>\n",
              "    <tr>\n",
              "      <th>2</th>\n",
              "      <td>RO</td>\n",
              "      <td>11</td>\n",
              "      <td>00031</td>\n",
              "      <td>Cabixi</td>\n",
              "      <td>5067</td>\n",
              "    </tr>\n",
              "    <tr>\n",
              "      <th>3</th>\n",
              "      <td>RO</td>\n",
              "      <td>11</td>\n",
              "      <td>00049</td>\n",
              "      <td>Cacoal</td>\n",
              "      <td>86416</td>\n",
              "    </tr>\n",
              "    <tr>\n",
              "      <th>4</th>\n",
              "      <td>RO</td>\n",
              "      <td>11</td>\n",
              "      <td>00056</td>\n",
              "      <td>Cerejeiras</td>\n",
              "      <td>16088</td>\n",
              "    </tr>\n",
              "  </tbody>\n",
              "</table>\n",
              "</div>"
            ],
            "text/plain": [
              "   UF COD. UF COD. MUNIC      NOME DO MUNICÍPIO POPULAÇÃO ESTIMADA\n",
              "0  RO      11      00015  Alta Floresta D'Oeste              22516\n",
              "1  RO      11      00023              Ariquemes             111148\n",
              "2  RO      11      00031                 Cabixi               5067\n",
              "3  RO      11      00049                 Cacoal              86416\n",
              "4  RO      11      00056             Cerejeiras              16088"
            ]
          },
          "metadata": {},
          "execution_count": 20
        }
      ]
    },
    {
      "cell_type": "code",
      "metadata": {
        "colab": {
          "base_uri": "https://localhost:8080/",
          "height": 214
        },
        "id": "_5n6tiX_mgHj",
        "outputId": "a67b5121-842b-4246-cb1e-4cb6384bf094"
      },
      "source": [
        "dfpop['cod_ibge'] = dfpop[['COD. UF', 'COD. MUNIC']].apply(lambda x: f\"{x['COD. UF']}{str(x['COD. MUNIC'])}\", axis=1)\n",
        "dfpop.rename(columns={\"NOME DO MUNICÍPIO\":\"nome_municipio\", \"POPULAÇÃO ESTIMADA\": \"populacao\"}, inplace=True)\n",
        "dfpop.head()\n"
      ],
      "execution_count": 64,
      "outputs": [
        {
          "output_type": "execute_result",
          "data": {
            "text/html": [
              "<div>\n",
              "<style scoped>\n",
              "    .dataframe tbody tr th:only-of-type {\n",
              "        vertical-align: middle;\n",
              "    }\n",
              "\n",
              "    .dataframe tbody tr th {\n",
              "        vertical-align: top;\n",
              "    }\n",
              "\n",
              "    .dataframe thead th {\n",
              "        text-align: right;\n",
              "    }\n",
              "</style>\n",
              "<table border=\"1\" class=\"dataframe\">\n",
              "  <thead>\n",
              "    <tr style=\"text-align: right;\">\n",
              "      <th></th>\n",
              "      <th>UF</th>\n",
              "      <th>COD. UF</th>\n",
              "      <th>COD. MUNIC</th>\n",
              "      <th>nome_municipio</th>\n",
              "      <th>populacao</th>\n",
              "      <th>cod_ibge</th>\n",
              "    </tr>\n",
              "  </thead>\n",
              "  <tbody>\n",
              "    <tr>\n",
              "      <th>0</th>\n",
              "      <td>RO</td>\n",
              "      <td>11</td>\n",
              "      <td>00015</td>\n",
              "      <td>Alta Floresta D'Oeste</td>\n",
              "      <td>22516</td>\n",
              "      <td>1100015</td>\n",
              "    </tr>\n",
              "    <tr>\n",
              "      <th>1</th>\n",
              "      <td>RO</td>\n",
              "      <td>11</td>\n",
              "      <td>00023</td>\n",
              "      <td>Ariquemes</td>\n",
              "      <td>111148</td>\n",
              "      <td>1100023</td>\n",
              "    </tr>\n",
              "    <tr>\n",
              "      <th>2</th>\n",
              "      <td>RO</td>\n",
              "      <td>11</td>\n",
              "      <td>00031</td>\n",
              "      <td>Cabixi</td>\n",
              "      <td>5067</td>\n",
              "      <td>1100031</td>\n",
              "    </tr>\n",
              "    <tr>\n",
              "      <th>3</th>\n",
              "      <td>RO</td>\n",
              "      <td>11</td>\n",
              "      <td>00049</td>\n",
              "      <td>Cacoal</td>\n",
              "      <td>86416</td>\n",
              "      <td>1100049</td>\n",
              "    </tr>\n",
              "    <tr>\n",
              "      <th>4</th>\n",
              "      <td>RO</td>\n",
              "      <td>11</td>\n",
              "      <td>00056</td>\n",
              "      <td>Cerejeiras</td>\n",
              "      <td>16088</td>\n",
              "      <td>1100056</td>\n",
              "    </tr>\n",
              "  </tbody>\n",
              "</table>\n",
              "</div>"
            ],
            "text/plain": [
              "   UF COD. UF COD. MUNIC         nome_municipio populacao cod_ibge\n",
              "0  RO      11      00015  Alta Floresta D'Oeste     22516  1100015\n",
              "1  RO      11      00023              Ariquemes    111148  1100023\n",
              "2  RO      11      00031                 Cabixi      5067  1100031\n",
              "3  RO      11      00049                 Cacoal     86416  1100049\n",
              "4  RO      11      00056             Cerejeiras     16088  1100056"
            ]
          },
          "metadata": {},
          "execution_count": 64
        }
      ]
    },
    {
      "cell_type": "markdown",
      "metadata": {
        "id": "tGm8un_wtfTU"
      },
      "source": [
        "## Join/Merge das tres tabelas"
      ]
    },
    {
      "cell_type": "code",
      "metadata": {
        "colab": {
          "base_uri": "https://localhost:8080/",
          "height": 327
        },
        "id": "d9D71W9Aqi1q",
        "outputId": "8e95dd88-9134-479f-f9fd-0afd16fa50ad"
      },
      "source": [
        "#Algebra relacional: Join. Ou seja, junção de tabelas.\n",
        "dfvacina_etl = df_vacina.merge(df_geo_agg[['cod_ibge','lat_long']], how='left', left_on='id_municipio', right_on='cod_ibge') \\\n",
        "                        .merge(dfpop[['nome_municipio','populacao','cod_ibge']], how='left', left_on='id_municipio', right_on='cod_ibge')\n",
        "dfvacina_etl.head()"
      ],
      "execution_count": 81,
      "outputs": [
        {
          "output_type": "execute_result",
          "data": {
            "text/html": [
              "<div>\n",
              "<style scoped>\n",
              "    .dataframe tbody tr th:only-of-type {\n",
              "        vertical-align: middle;\n",
              "    }\n",
              "\n",
              "    .dataframe tbody tr th {\n",
              "        vertical-align: top;\n",
              "    }\n",
              "\n",
              "    .dataframe thead th {\n",
              "        text-align: right;\n",
              "    }\n",
              "</style>\n",
              "<table border=\"1\" class=\"dataframe\">\n",
              "  <thead>\n",
              "    <tr style=\"text-align: right;\">\n",
              "      <th></th>\n",
              "      <th>sigla_uf</th>\n",
              "      <th>nome_fabricante</th>\n",
              "      <th>vacina</th>\n",
              "      <th>id_municipio</th>\n",
              "      <th>mes</th>\n",
              "      <th>ano</th>\n",
              "      <th>QTD_1Dose</th>\n",
              "      <th>QTD_2Dose</th>\n",
              "      <th>QTD_3Dose</th>\n",
              "      <th>QTD_Dose</th>\n",
              "      <th>QTD_nica</th>\n",
              "      <th>QTD_1DoseRevacinao</th>\n",
              "      <th>QTD_2DoseRevacinao</th>\n",
              "      <th>QTD_DoseInicial</th>\n",
              "      <th>QTD_DoseAdicional</th>\n",
              "      <th>QTD_1Reforo</th>\n",
              "      <th>cod_ibge_x</th>\n",
              "      <th>lat_long</th>\n",
              "      <th>nome_municipio</th>\n",
              "      <th>populacao</th>\n",
              "      <th>cod_ibge_y</th>\n",
              "    </tr>\n",
              "  </thead>\n",
              "  <tbody>\n",
              "    <tr>\n",
              "      <th>0</th>\n",
              "      <td>MA</td>\n",
              "      <td>PFIZER</td>\n",
              "      <td>87</td>\n",
              "      <td>2111300</td>\n",
              "      <td>8</td>\n",
              "      <td>2021</td>\n",
              "      <td>1</td>\n",
              "      <td>1</td>\n",
              "      <td>0</td>\n",
              "      <td>0</td>\n",
              "      <td>0</td>\n",
              "      <td>0</td>\n",
              "      <td>0</td>\n",
              "      <td>0</td>\n",
              "      <td>1</td>\n",
              "      <td>0</td>\n",
              "      <td>2111300</td>\n",
              "      <td>-2.53188598508,-44.2979185642</td>\n",
              "      <td>São Luís</td>\n",
              "      <td>1115932</td>\n",
              "      <td>2111300</td>\n",
              "    </tr>\n",
              "    <tr>\n",
              "      <th>1</th>\n",
              "      <td>MA</td>\n",
              "      <td>ASTRAZENECA/FIOCRUZ</td>\n",
              "      <td>85</td>\n",
              "      <td>2112902</td>\n",
              "      <td>7</td>\n",
              "      <td>2021</td>\n",
              "      <td>1</td>\n",
              "      <td>1</td>\n",
              "      <td>0</td>\n",
              "      <td>0</td>\n",
              "      <td>0</td>\n",
              "      <td>0</td>\n",
              "      <td>0</td>\n",
              "      <td>0</td>\n",
              "      <td>0</td>\n",
              "      <td>0</td>\n",
              "      <td>2112902</td>\n",
              "      <td>-3.48204736455,-44.8695722406</td>\n",
              "      <td>Vitória do Mearim</td>\n",
              "      <td>32956</td>\n",
              "      <td>2112902</td>\n",
              "    </tr>\n",
              "    <tr>\n",
              "      <th>2</th>\n",
              "      <td>MA</td>\n",
              "      <td>SINOVAC/BUTANTAN</td>\n",
              "      <td>86</td>\n",
              "      <td>2106607</td>\n",
              "      <td>9</td>\n",
              "      <td>2021</td>\n",
              "      <td>1</td>\n",
              "      <td>1</td>\n",
              "      <td>0</td>\n",
              "      <td>0</td>\n",
              "      <td>0</td>\n",
              "      <td>0</td>\n",
              "      <td>0</td>\n",
              "      <td>0</td>\n",
              "      <td>0</td>\n",
              "      <td>0</td>\n",
              "      <td>2106607</td>\n",
              "      <td>-5.52246501943,-43.2012082829</td>\n",
              "      <td>Matões</td>\n",
              "      <td>34099</td>\n",
              "      <td>2106607</td>\n",
              "    </tr>\n",
              "    <tr>\n",
              "      <th>3</th>\n",
              "      <td>MA</td>\n",
              "      <td>ASTRAZENECA/FIOCRUZ</td>\n",
              "      <td>85</td>\n",
              "      <td>2112506</td>\n",
              "      <td>9</td>\n",
              "      <td>2021</td>\n",
              "      <td>1</td>\n",
              "      <td>1</td>\n",
              "      <td>0</td>\n",
              "      <td>0</td>\n",
              "      <td>0</td>\n",
              "      <td>0</td>\n",
              "      <td>0</td>\n",
              "      <td>0</td>\n",
              "      <td>0</td>\n",
              "      <td>0</td>\n",
              "      <td>2112506</td>\n",
              "      <td>-2.76355019689,-42.2768472077</td>\n",
              "      <td>Tutóia</td>\n",
              "      <td>59927</td>\n",
              "      <td>2112506</td>\n",
              "    </tr>\n",
              "    <tr>\n",
              "      <th>4</th>\n",
              "      <td>MA</td>\n",
              "      <td>SINOVAC/BUTANTAN</td>\n",
              "      <td>86</td>\n",
              "      <td>2106607</td>\n",
              "      <td>7</td>\n",
              "      <td>2021</td>\n",
              "      <td>1</td>\n",
              "      <td>1</td>\n",
              "      <td>0</td>\n",
              "      <td>0</td>\n",
              "      <td>0</td>\n",
              "      <td>0</td>\n",
              "      <td>0</td>\n",
              "      <td>0</td>\n",
              "      <td>0</td>\n",
              "      <td>0</td>\n",
              "      <td>2106607</td>\n",
              "      <td>-5.52246501943,-43.2012082829</td>\n",
              "      <td>Matões</td>\n",
              "      <td>34099</td>\n",
              "      <td>2106607</td>\n",
              "    </tr>\n",
              "  </tbody>\n",
              "</table>\n",
              "</div>"
            ],
            "text/plain": [
              "  sigla_uf      nome_fabricante vacina  ...     nome_municipio  populacao  cod_ibge_y\n",
              "0       MA               PFIZER     87  ...           São Luís    1115932     2111300\n",
              "1       MA  ASTRAZENECA/FIOCRUZ     85  ...  Vitória do Mearim      32956     2112902\n",
              "2       MA     SINOVAC/BUTANTAN     86  ...             Matões      34099     2106607\n",
              "3       MA  ASTRAZENECA/FIOCRUZ     85  ...             Tutóia      59927     2112506\n",
              "4       MA     SINOVAC/BUTANTAN     86  ...             Matões      34099     2106607\n",
              "\n",
              "[5 rows x 21 columns]"
            ]
          },
          "metadata": {},
          "execution_count": 81
        }
      ]
    },
    {
      "cell_type": "code",
      "metadata": {
        "colab": {
          "base_uri": "https://localhost:8080/"
        },
        "id": "WosvyRJrvnau",
        "outputId": "a9190b25-8ed2-476e-fd71-abe769542a01"
      },
      "source": [
        "dfvacina_etl.info()"
      ],
      "execution_count": 82,
      "outputs": [
        {
          "output_type": "stream",
          "name": "stdout",
          "text": [
            "<class 'pandas.core.frame.DataFrame'>\n",
            "Int64Index: 194894 entries, 0 to 194893\n",
            "Data columns (total 21 columns):\n",
            " #   Column              Non-Null Count   Dtype \n",
            "---  ------              --------------   ----- \n",
            " 0   sigla_uf            194894 non-null  object\n",
            " 1   nome_fabricante     194844 non-null  object\n",
            " 2   vacina              194894 non-null  object\n",
            " 3   id_municipio        194894 non-null  object\n",
            " 4   mes                 194894 non-null  int64 \n",
            " 5   ano                 194894 non-null  int64 \n",
            " 6   QTD_1Dose           194894 non-null  int64 \n",
            " 7   QTD_2Dose           194894 non-null  int64 \n",
            " 8   QTD_3Dose           194894 non-null  int64 \n",
            " 9   QTD_Dose            194894 non-null  int64 \n",
            " 10  QTD_nica            194894 non-null  int64 \n",
            " 11  QTD_1DoseRevacinao  194894 non-null  int64 \n",
            " 12  QTD_2DoseRevacinao  194894 non-null  int64 \n",
            " 13  QTD_DoseInicial     194894 non-null  int64 \n",
            " 14  QTD_DoseAdicional   194894 non-null  int64 \n",
            " 15  QTD_1Reforo         194894 non-null  int64 \n",
            " 16  cod_ibge_x          188751 non-null  object\n",
            " 17  lat_long            188751 non-null  object\n",
            " 18  nome_municipio      194894 non-null  object\n",
            " 19  populacao           194894 non-null  object\n",
            " 20  cod_ibge_y          194894 non-null  object\n",
            "dtypes: int64(12), object(9)\n",
            "memory usage: 32.7+ MB\n"
          ]
        }
      ]
    },
    {
      "cell_type": "code",
      "metadata": {
        "colab": {
          "base_uri": "https://localhost:8080/"
        },
        "id": "sAQVQ0UPvtq-",
        "outputId": "0d5fc36b-15a4-4fe0-dad1-5f1d754b9d5b"
      },
      "source": [
        "dfvacina_etl.to_gbq(\"testes_idp.vacinacao\",\n",
        "              project_id=project_id,\n",
        "              chunksize=40000,\n",
        "              if_exists='replace',\n",
        "              )"
      ],
      "execution_count": 70,
      "outputs": [
        {
          "output_type": "stream",
          "name": "stderr",
          "text": [
            "1it [00:03,  3.91s/it]\n"
          ]
        }
      ]
    },
    {
      "cell_type": "code",
      "metadata": {
        "colab": {
          "base_uri": "https://localhost:8080/"
        },
        "id": "mF2rNZIvx-zz",
        "outputId": "2413e3f8-3d19-4345-d6e1-46502145b434"
      },
      "source": [
        "dfvacina_etl.to_gbq(\"testes_idp.vacinacao_5000000\",\n",
        "              project_id=project_id,\n",
        "              chunksize=40000,\n",
        "              if_exists='replace',\n",
        "              )"
      ],
      "execution_count": 79,
      "outputs": [
        {
          "output_type": "stream",
          "name": "stderr",
          "text": [
            "5it [00:32,  6.58s/it]\n"
          ]
        }
      ]
    },
    {
      "cell_type": "code",
      "metadata": {
        "id": "Whu-rmxj0qH2"
      },
      "source": [
        ""
      ],
      "execution_count": null,
      "outputs": []
    }
  ]
}