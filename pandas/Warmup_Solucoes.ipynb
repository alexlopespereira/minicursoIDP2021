{
 "cells": [
  {
   "cell_type": "markdown",
   "metadata": {},
   "source": [
    "# Aula 5 - Warmup de Introdução ao Pandas"
   ]
  },
  {
   "cell_type": "markdown",
   "metadata": {},
   "source": [
    "### Treinando conceitos de Pandas e Series"
   ]
  },
  {
   "cell_type": "code",
   "execution_count": null,
   "metadata": {},
   "outputs": [],
   "source": [
    "# Importe as bibliotecas pandas e numpy\n",
    "import pandas as pd\n",
    "import numpy as np"
   ]
  },
  {
   "cell_type": "markdown",
   "metadata": {},
   "source": [
    "#### W5.1 Crie um objeto Series contendo os seguintes elementos [4, 7, -5, 3]"
   ]
  },
  {
   "cell_type": "code",
   "execution_count": null,
   "metadata": {},
   "outputs": [],
   "source": [
    "# Faça aqui\n",
    "### BEGIN SOLUTION\n",
    "pd.Series([4, 7, -5, 3])\n",
    "### END SOLUTION\n"
   ]
  },
  {
   "cell_type": "markdown",
   "metadata": {},
   "source": [
    "#### W5.2 Crie um objeto Series contendo [4, 7, -5, 3] e defina seu próprio array de índices como sendo ['d', 'b', 'a', 'c']"
   ]
  },
  {
   "cell_type": "code",
   "execution_count": null,
   "metadata": {},
   "outputs": [],
   "source": [
    "# Faça aqui\n",
    "### BEGIN SOLUTION\n",
    "s = pd.Series([4, 7, -5, 3], index=['d', 'b', 'a', 'c'])\n",
    "print(s)\n",
    "### END SOLUTION\n"
   ]
  },
  {
   "cell_type": "markdown",
   "metadata": {},
   "source": [
    "#### W5.3 Use o índice para acessar o valor 4 do objeto Series criado no exercicio W5.1"
   ]
  },
  {
   "cell_type": "code",
   "execution_count": null,
   "metadata": {},
   "outputs": [],
   "source": [
    "# Faça aqui\n",
    "### BEGIN SOLUTION\n",
    "s['d']\n",
    "### END SOLUTION\n"
   ]
  },
  {
   "cell_type": "markdown",
   "metadata": {},
   "source": [
    "#### W5.4 Use o índice para acessar os valores 7 e 3 do objeto Series criado no exercicio W5.1"
   ]
  },
  {
   "cell_type": "code",
   "execution_count": null,
   "metadata": {},
   "outputs": [],
   "source": [
    "# Faça aqui\n",
    "### BEGIN SOLUTION\n",
    "s[['b', 'c']]\n",
    "### END SOLUTION\n"
   ]
  },
  {
   "cell_type": "markdown",
   "metadata": {},
   "source": [
    "#### W5.5 Atribua o valor 6 ao elemento de índice d"
   ]
  },
  {
   "cell_type": "code",
   "execution_count": null,
   "metadata": {},
   "outputs": [],
   "source": [
    "# Faça aqui\n",
    "### BEGIN SOLUTION\n",
    "s['d'] = 6\n",
    "print(s)\n",
    "### END SOLUTION\n"
   ]
  },
  {
   "cell_type": "markdown",
   "metadata": {},
   "source": [
    "#### W5.6 Verifique se o índice 'c' está presente na Serie criada no exercício W5.1"
   ]
  },
  {
   "cell_type": "code",
   "execution_count": null,
   "metadata": {},
   "outputs": [],
   "source": [
    "# Faça aqui\n",
    "### BEGIN SOLUTION\n",
    "'c' in s.index\n",
    "### END SOLUTION\n"
   ]
  },
  {
   "cell_type": "markdown",
   "metadata": {},
   "source": [
    "#### W5.7 Verifique se o índice 'e' está presente na Serie criada no exercício W5.1\n"
   ]
  },
  {
   "cell_type": "code",
   "execution_count": null,
   "metadata": {},
   "outputs": [],
   "source": [
    "# Faça aqui\n",
    "### BEGIN SOLUTION\n",
    "'e' in s.index\n",
    "### END SOLUTION\n"
   ]
  },
  {
   "cell_type": "markdown",
   "metadata": {},
   "source": [
    "#### W5.8 Retorne os elementos da Series abaixo cujo valor seja maior que 0"
   ]
  },
  {
   "cell_type": "code",
   "execution_count": null,
   "metadata": {},
   "outputs": [],
   "source": [
    "# Considere a seguinte serie\n",
    "obj2 = pd.Series([0, 7, -5, 3, 2, 5, -15], index=['d', 'b', 'a', 'c', 'd', 'e', 'f'])\n",
    "# Faça aqui\n",
    "### BEGIN SOLUTION\n",
    "obj2[obj2 > 0]\n",
    "### END SOLUTION\n"
   ]
  },
  {
   "cell_type": "markdown",
   "metadata": {},
   "source": [
    "#### W5.9 Retorne os valores da Serie obj2 (exercício W5.8) multiplicados por 2\n"
   ]
  },
  {
   "cell_type": "code",
   "execution_count": null,
   "metadata": {},
   "outputs": [],
   "source": [
    "# Faça aqui\n",
    "### BEGIN SOLUTION\n",
    "obj2 * 2\n",
    "### END SOLUTION\n"
   ]
  },
  {
   "cell_type": "markdown",
   "metadata": {},
   "source": [
    "#### W5.10 Retorne os valores da aplicação da função exponencial (np.exp) a Serie obj2 (exercício W5.8)\n"
   ]
  },
  {
   "cell_type": "code",
   "execution_count": null,
   "metadata": {},
   "outputs": [],
   "source": [
    "# Faça aqui\n",
    "### BEGIN SOLUTION\n",
    "np.exp(obj2)\n",
    "### END SOLUTION\n"
   ]
  },
  {
   "cell_type": "markdown",
   "metadata": {},
   "source": [
    "#### W5.11 Criando uma Serie com um dicionário. Chame a Serie de obj3."
   ]
  },
  {
   "cell_type": "code",
   "execution_count": null,
   "metadata": {},
   "outputs": [],
   "source": [
    "# Crie uma série com o seguinte dicionário \n",
    "# {'carro': 350, 'moto': 750, 'bicicleta': 260, 'caminhao': 500, 'trem': np.nan, 'aviao': np.nan}\n",
    "# Chame a Serie de obj3\n",
    "# Faça aqui\n",
    "### BEGIN SOLUTION\n",
    "obj3 = pd.Series({'carro': 350, 'moto': 750, 'bicicleta': 260, 'caminhao': 500, 'trem': np.nan, 'aviao': np.nan})\n",
    "print(obj3)\n",
    "### END SOLUTION\n"
   ]
  },
  {
   "cell_type": "markdown",
   "metadata": {},
   "source": [
    "### Treinando conceitos de Valores Ausentes/Indisponíveis (NA)"
   ]
  },
  {
   "cell_type": "markdown",
   "metadata": {},
   "source": [
    "#### W5.12 Retorne, na forma de uma serie de booleanos, quais elementos da Serie obj3 tem valores NA"
   ]
  },
  {
   "cell_type": "code",
   "execution_count": null,
   "metadata": {},
   "outputs": [],
   "source": [
    "# Faça aqui\n",
    "### BEGIN SOLUTION\n",
    "obj3.isnull()\n",
    "### END SOLUTION\n"
   ]
  },
  {
   "cell_type": "markdown",
   "metadata": {},
   "source": [
    "#### W5.13 Retorne, na forma de uma serie de booleanos, quais elementos da Serie obj3 não tem valores NA"
   ]
  },
  {
   "cell_type": "code",
   "execution_count": null,
   "metadata": {},
   "outputs": [],
   "source": [
    "# Faça aqui\n",
    "### BEGIN SOLUTION\n",
    "obj3.notnull()\n",
    "### END SOLUTION\n"
   ]
  },
  {
   "cell_type": "markdown",
   "metadata": {},
   "source": [
    "#### W5.14 Retorne os valores não nulos (diferentes de NA) da serie obj3"
   ]
  },
  {
   "cell_type": "code",
   "execution_count": null,
   "metadata": {},
   "outputs": [],
   "source": [
    "# Faça aqui\n",
    "### BEGIN SOLUTION\n",
    "obj3[obj3.notnull()]\n",
    "### END SOLUTION\n"
   ]
  },
  {
   "cell_type": "markdown",
   "metadata": {},
   "source": [
    "#### W5.15 Remova os elementos de valor NA da serie obj3"
   ]
  },
  {
   "cell_type": "code",
   "execution_count": null,
   "metadata": {},
   "outputs": [],
   "source": [
    "# Faça aqui\n",
    "### BEGIN SOLUTION\n",
    "obj3 = obj3[obj3.notnull()]\n",
    "print(obj3)\n",
    "# solucao alternativa\n",
    "obj3.dropna() # Esse metodo também tem o argumento inplace\n",
    "### END SOLUTION\n"
   ]
  },
  {
   "cell_type": "markdown",
   "metadata": {},
   "source": [
    "### Treinando Aritmética com Series"
   ]
  },
  {
   "cell_type": "markdown",
   "metadata": {},
   "source": [
    "#### W5.16 Crie a série abaixo"
   ]
  },
  {
   "cell_type": "code",
   "execution_count": null,
   "metadata": {},
   "outputs": [],
   "source": [
    "# Crie uma série com o seguinte dicionário \n",
    "# {'carro': 50, 'moto': 150, 'bicicleta': 200, 'caminhao': np.nan, 'trem': 10, 'aviao': 20}\n",
    "# Chame a Serie de obj4\n",
    "# Faça aqui\n",
    "### BEGIN SOLUTION\n",
    "obj4 = pd.Series({'carro': 50, 'moto': 150, 'bicicleta': 200, 'caminhao': np.nan, 'trem': 10, 'aviao': 20})\n",
    "obj4\n",
    "### END SOLUTION\n"
   ]
  },
  {
   "cell_type": "markdown",
   "metadata": {},
   "source": [
    "#### W5.17 Some as séries criadas nos dois exercícios anteriores (obj3 e obj4)\n"
   ]
  },
  {
   "cell_type": "code",
   "execution_count": null,
   "metadata": {},
   "outputs": [],
   "source": [
    "# Faça aqui\n",
    "### BEGIN SOLUTION\n",
    "obj3+obj4\n",
    "### END SOLUTION\n"
   ]
  },
  {
   "cell_type": "markdown",
   "metadata": {},
   "source": [
    "## Treinando conceitos sobre DataFrames"
   ]
  },
  {
   "cell_type": "markdown",
   "metadata": {},
   "source": [
    "#### W5.18 Crie um data frame a partir dos dados do seguinte dicionário. Chame-o de frame"
   ]
  },
  {
   "cell_type": "code",
   "execution_count": null,
   "metadata": {},
   "outputs": [],
   "source": [
    "data = {'state': ['Ohio', 'Ohio', 'Ohio', 'Nevada', 'Nevada', 'Nevada'],\n",
    "'year': [2000, 2001, 2002, 2001, 2002, 2003],\n",
    "'pop': [1.5, 1.7, 3.6, 2.4, 2.9, 3.2]}\n",
    "# Faça aqui\n",
    "### BEGIN SOLUTION\n",
    "frame = pd.DataFrame(data)\n",
    "### END SOLUTION\n"
   ]
  },
  {
   "cell_type": "markdown",
   "metadata": {},
   "source": [
    "#### W5.19 Mostre as primeiras linhas do dataframe frame"
   ]
  },
  {
   "cell_type": "code",
   "execution_count": null,
   "metadata": {},
   "outputs": [],
   "source": [
    "# Acesse as primeiras linhas do dataframe frame\n",
    "### BEGIN SOLUTION\n",
    "frame.head()\n",
    "### END SOLUTION\n"
   ]
  },
  {
   "cell_type": "markdown",
   "metadata": {},
   "source": [
    "#### Acesse a coluna state usando a sintaxe com colchetes"
   ]
  },
  {
   "cell_type": "code",
   "execution_count": null,
   "metadata": {},
   "outputs": [],
   "source": [
    "# Faça aqui\n",
    "### BEGIN SOLUTION\n",
    "frame['state']\n",
    "### END SOLUTION\n"
   ]
  },
  {
   "cell_type": "markdown",
   "metadata": {},
   "source": [
    "#### W5.20 Atribua o valor 16.5 para todas as posições de uma nova coluna chamada debt."
   ]
  },
  {
   "cell_type": "code",
   "execution_count": null,
   "metadata": {},
   "outputs": [],
   "source": [
    "# Faça aqui\n",
    "### BEGIN SOLUTION\n",
    "frame['debt'] = 16.5\n",
    "### END SOLUTION\n"
   ]
  },
  {
   "cell_type": "markdown",
   "metadata": {},
   "source": [
    "#### W5.21 Atribua o valor do intervalo de 0 a 5 (float) na coluna debt.\n",
    "#### Dica: use a função np.arange"
   ]
  },
  {
   "cell_type": "code",
   "execution_count": null,
   "metadata": {},
   "outputs": [],
   "source": [
    "# Faça aqui\n",
    "### BEGIN SOLUTION\n",
    "frame['debt'] = np.arange(6.)\n",
    "### END SOLUTION\n"
   ]
  },
  {
   "cell_type": "markdown",
   "metadata": {},
   "source": [
    "#### W5.22 Crie uma nova coluna chamada eastern com o valor True para as linhas cujo estado seja Ohio, e False caso contrário."
   ]
  },
  {
   "cell_type": "code",
   "execution_count": null,
   "metadata": {},
   "outputs": [],
   "source": [
    "# Faça aqui\n",
    "### BEGIN SOLUTION\n",
    "frame['eastern'] = frame['state'] == 'Ohio'\n",
    "frame\n",
    "### END SOLUTION\n"
   ]
  },
  {
   "cell_type": "markdown",
   "metadata": {},
   "source": [
    "#### W5.23 Delete a coluna eastern usando o comando del"
   ]
  },
  {
   "cell_type": "code",
   "execution_count": null,
   "metadata": {},
   "outputs": [],
   "source": [
    "# Faça aqui\n",
    "### BEGIN SOLUTION\n",
    "del frame['eastern']\n",
    "### END SOLUTION\n"
   ]
  },
  {
   "cell_type": "markdown",
   "metadata": {},
   "source": [
    "#### W5.24 Crie um DataFrame a partir de um dicionário de dicionários. Chame-o de frame3."
   ]
  },
  {
   "cell_type": "code",
   "execution_count": null,
   "metadata": {},
   "outputs": [],
   "source": [
    "# Crie um Dataframe a partir do seguinte dicionário:\n",
    "pop = {'DF': {2001: 2.7, 2002: 2.8},\n",
    "        'GO': {2000: 1.2, 2001: 1.7, 2002: 2.6}}\n",
    "# Faça aqui\n",
    "### BEGIN SOLUTION\n",
    "frame3 = pd.DataFrame(pop)\n",
    "### END SOLUTION\n"
   ]
  },
  {
   "cell_type": "markdown",
   "metadata": {},
   "source": [
    "#### W5.25 Retorne somente os valores do dicionário frame3. \n",
    "#### Dica use o atributo values. "
   ]
  },
  {
   "cell_type": "code",
   "execution_count": null,
   "metadata": {},
   "outputs": [],
   "source": [
    "# Faça aqui\n",
    "### BEGIN SOLUTION\n",
    "frame3.values\n",
    "### END SOLUTION\n"
   ]
  },
  {
   "cell_type": "markdown",
   "metadata": {},
   "source": [
    "#### W5.26 Remova os valores de uma Serie conforme especificado a seguir."
   ]
  },
  {
   "cell_type": "code",
   "execution_count": null,
   "metadata": {},
   "outputs": [],
   "source": [
    "# Considere a Serie abaixo\n",
    "obj = pd.Series(np.arange(5.), index=['a', 'b', 'c', 'd', 'e'])\n",
    "obj\n"
   ]
  },
  {
   "cell_type": "code",
   "execution_count": null,
   "metadata": {},
   "outputs": [],
   "source": [
    "# Crie um novo objeto removendo o item de índice c\n",
    "### BEGIN SOLUTION\n",
    "objx = obj.drop('c')\n",
    "objx\n",
    "### END SOLUTION\n"
   ]
  },
  {
   "cell_type": "code",
   "execution_count": null,
   "metadata": {
    "scrolled": true
   },
   "outputs": [],
   "source": [
    "# Retorne uma serie sem os itens c e d\n",
    "### BEGIN SOLUTION\n",
    "obj.drop(['c', 'd'])\n",
    "### END SOLUTION\n"
   ]
  },
  {
   "cell_type": "markdown",
   "metadata": {},
   "source": [
    "#### W5.27 Removendo entradas de um DataFrame conforme especificado a seguir."
   ]
  },
  {
   "cell_type": "code",
   "execution_count": null,
   "metadata": {},
   "outputs": [],
   "source": [
    "# Considere o dataframe abaixo\n",
    "data = pd.DataFrame(np.arange(16).reshape((4, 4)),\n",
    "                    index=['DF', 'GO', 'SP', 'RJ'],\n",
    "                    columns=['um', 'dois', 'tres', 'quatro'])\n",
    "data\n"
   ]
  },
  {
   "cell_type": "code",
   "execution_count": null,
   "metadata": {},
   "outputs": [],
   "source": [
    "# Retorne um dataframe sem as linhas DF e GO\n",
    "### BEGIN SOLUTION\n",
    "data.loc[['DF', 'GO'], :]\n",
    "### END SOLUTION\n"
   ]
  },
  {
   "cell_type": "code",
   "execution_count": null,
   "metadata": {},
   "outputs": [],
   "source": [
    "# Remova a coluna tres do dataframe data. Dica: use o argumento axis do método drop.\n",
    "### BEGIN SOLUTION\n",
    "data.drop('tres', axis=1)\n",
    "\n",
    "### END SOLUTION\n"
   ]
  },
  {
   "cell_type": "markdown",
   "metadata": {},
   "source": [
    "#### W5.28 Realize as operações solicitadas a seguir"
   ]
  },
  {
   "cell_type": "code",
   "execution_count": null,
   "metadata": {},
   "outputs": [],
   "source": [
    "# Considere o dataframe abaixo\n",
    "data = pd.DataFrame(np.arange(16).reshape((4, 4)),\n",
    "                    index=['DF', 'GO', 'SP', 'RJ'],\n",
    "                    columns=['um', 'dois', 'tres', 'quatro'])\n",
    "data\n"
   ]
  },
  {
   "cell_type": "code",
   "execution_count": null,
   "metadata": {},
   "outputs": [],
   "source": [
    "# Retorne um dataframe contendo True para itens menores que 5, e False caso contrário\n",
    "### BEGIN SOLUTION\n",
    "data<5\n",
    "### END SOLUTION\n"
   ]
  },
  {
   "cell_type": "code",
   "execution_count": null,
   "metadata": {},
   "outputs": [],
   "source": [
    "# Atribua o valor zero onde os valores do dataframe são menores que 5\n",
    "### BEGIN SOLUTION\n",
    "data[data<5] = 0\n",
    "data\n",
    "### END SOLUTION\n"
   ]
  },
  {
   "cell_type": "markdown",
   "metadata": {},
   "source": [
    "### Treinando Filtro e Seleção num dataframe\n",
    "#### W5.29 Execute as instruções solicitadas a seguir."
   ]
  },
  {
   "cell_type": "code",
   "execution_count": null,
   "metadata": {},
   "outputs": [],
   "source": [
    "# Selecione as colunas um e dois do dataframe data\n",
    "### BEGIN SOLUTION\n",
    "data[['um', 'dois']]\n",
    "### END SOLUTION\n"
   ]
  },
  {
   "cell_type": "code",
   "execution_count": null,
   "metadata": {},
   "outputs": [],
   "source": [
    "# Retorne as linhas do dataframe data cujo valor da coluna tres seja maior que 5\n",
    "### BEGIN SOLUTION\n",
    "data[data['tres'] > 5]\n",
    "### END SOLUTION\n"
   ]
  },
  {
   "cell_type": "markdown",
   "metadata": {},
   "source": [
    "### Treinando seleção com os operadores loc e iloc\n",
    "#### W5.30 Execute as instruções solicitadas a seguir."
   ]
  },
  {
   "cell_type": "code",
   "execution_count": null,
   "metadata": {},
   "outputs": [],
   "source": [
    "# Retorne o subconjunto especificado pela linha DF e colunas dois e tres\n",
    "### BEGIN SOLUTION\n",
    "data.loc['DF', ['dois','tres']]\n",
    "### END SOLUTION\n"
   ]
  },
  {
   "cell_type": "code",
   "execution_count": null,
   "metadata": {},
   "outputs": [],
   "source": [
    "# Utilizando o iloc, retorne o subconjunto especificado pela linha 2 e colunas 3, 0 e 1\n",
    "### BEGIN SOLUTION\n",
    "data.iloc[2, [3,0,1]]\n",
    "### END SOLUTION\n"
   ]
  }
 ],
 "metadata": {
  "kernelspec": {
   "display_name": "Python 3",
   "language": "python",
   "name": "python3"
  },
  "language_info": {
   "codemirror_mode": {
    "name": "ipython",
    "version": 3
   },
   "file_extension": ".py",
   "mimetype": "text/x-python",
   "name": "python",
   "nbconvert_exporter": "python",
   "pygments_lexer": "ipython3",
   "version": "3.8.3"
  },
  "varInspector": {
   "cols": {
    "lenName": 16,
    "lenType": 16,
    "lenVar": 40
   },
   "kernels_config": {
    "python": {
     "delete_cmd_postfix": "",
     "delete_cmd_prefix": "del ",
     "library": "var_list.py",
     "varRefreshCmd": "print(var_dic_list())"
    },
    "r": {
     "delete_cmd_postfix": ") ",
     "delete_cmd_prefix": "rm(",
     "library": "var_list.r",
     "varRefreshCmd": "cat(var_dic_list()) "
    }
   },
   "types_to_exclude": [
    "module",
    "function",
    "builtin_function_or_method",
    "instance",
    "_Feature"
   ],
   "window_display": false
  }
 },
 "nbformat": 4,
 "nbformat_minor": 4
}
